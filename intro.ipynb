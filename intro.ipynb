{
  "nbformat": 4,
  "nbformat_minor": 0,
  "metadata": {
    "colab": {
      "name": "Untitled0.ipynb",
      "provenance": []
    },
    "kernelspec": {
      "name": "python3",
      "display_name": "Python 3"
    },
    "language_info": {
      "name": "python"
    }
  },
  "cells": [
    {
      "cell_type": "code",
      "metadata": {
        "colab": {
          "base_uri": "https://localhost:8080/"
        },
        "id": "0-zdqAviiwFX",
        "outputId": "0081576a-0797-486c-b41d-e7a51edd975a"
      },
      "source": [
        "print(\"안녕, 콜레보레이토리\")"
      ],
      "execution_count": 1,
      "outputs": [
        {
          "output_type": "stream",
          "text": [
            "안녕, 콜레보레이토리\n"
          ],
          "name": "stdout"
        }
      ]
    },
    {
      "cell_type": "code",
      "metadata": {
        "colab": {
          "base_uri": "https://localhost:8080/"
        },
        "id": "kCytjox-jFS1",
        "outputId": "bc4343b2-ae11-4746-f6e6-68762fc6b1a5"
      },
      "source": [
        "text = 'hello, python'\n",
        "print(text)"
      ],
      "execution_count": 4,
      "outputs": [
        {
          "output_type": "stream",
          "text": [
            "hello, python\n"
          ],
          "name": "stdout"
        }
      ]
    }
  ]
}